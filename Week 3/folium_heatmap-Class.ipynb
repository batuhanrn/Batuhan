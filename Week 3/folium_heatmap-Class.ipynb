{
 "cells": [
  {
   "cell_type": "markdown",
   "metadata": {
    "colab_type": "text",
    "id": "XEKQmmmkiIio"
   },
   "source": [
    "### Follium HeatMaps"
   ]
  },
  {
   "cell_type": "markdown",
   "metadata": {
    "ExecuteTime": {
     "end_time": "2018-11-19T05:33:33.494092Z",
     "start_time": "2018-11-19T05:33:24.204201Z"
    },
    "colab": {
     "base_uri": "https://localhost:8080/",
     "height": 966
    },
    "colab_type": "code",
    "id": "mLiflC-JiIir",
    "outputId": "fa300574-d431-4b65-eac0-54203b1ee36c"
   },
   "source": [
    "import pandas as pd\n",
    "import folium\n"
   ]
  },
  {
   "cell_type": "code",
   "execution_count": 1,
   "metadata": {},
   "outputs": [
    {
     "ename": "ModuleNotFoundError",
     "evalue": "No module named 'folium'",
     "output_type": "error",
     "traceback": [
      "\u001b[1;31m---------------------------------------------------------------------------\u001b[0m",
      "\u001b[1;31mModuleNotFoundError\u001b[0m                       Traceback (most recent call last)",
      "\u001b[1;32m<ipython-input-1-5ba95c2ee35e>\u001b[0m in \u001b[0;36m<module>\u001b[1;34m()\u001b[0m\n\u001b[0;32m      1\u001b[0m \u001b[1;32mimport\u001b[0m \u001b[0mpandas\u001b[0m \u001b[1;32mas\u001b[0m \u001b[0mpd\u001b[0m\u001b[1;33m\u001b[0m\u001b[0m\n\u001b[1;32m----> 2\u001b[1;33m \u001b[1;32mimport\u001b[0m \u001b[0mfolium\u001b[0m\u001b[1;33m\u001b[0m\u001b[0m\n\u001b[0m",
      "\u001b[1;31mModuleNotFoundError\u001b[0m: No module named 'folium'"
     ]
    }
   ],
   "source": [
    "import pandas as pd\n",
    "import folium"
   ]
  },
  {
   "cell_type": "code",
   "execution_count": null,
   "metadata": {},
   "outputs": [],
   "source": [
    "# read data\n",
    "df = pd.read_csv('train.csv')\n",
    "df.head()"
   ]
  },
  {
   "cell_type": "code",
   "execution_count": null,
   "metadata": {},
   "outputs": [],
   "source": [
    "df = df.drop(columns=['trip_duration', 'dropoff_datetime'])\n",
    "df.head()"
   ]
  },
  {
   "cell_type": "code",
   "execution_count": null,
   "metadata": {
    "ExecuteTime": {
     "end_time": "2018-11-19T05:33:33.981130Z",
     "start_time": "2018-11-19T05:33:33.526528Z"
    },
    "colab": {},
    "colab_type": "code",
    "id": "7XAk9JBliIjA",
    "outputId": "3c258271-55a9-46ef-e7ee-cbaf11ce33af"
   },
   "outputs": [],
   "source": [
    "df.info()"
   ]
  },
  {
   "cell_type": "markdown",
   "metadata": {
    "colab_type": "text",
    "id": "11J4Nt1AiIjD"
   },
   "source": [
    "### Process Data"
   ]
  },
  {
   "cell_type": "markdown",
   "metadata": {
    "colab_type": "text",
    "id": "2foWIys9iIjF"
   },
   "source": [
    "Generating month column"
   ]
  },
  {
   "cell_type": "code",
   "execution_count": null,
   "metadata": {
    "ExecuteTime": {
     "end_time": "2018-11-19T05:34:04.547140Z",
     "start_time": "2018-11-19T05:33:33.986148Z"
    },
    "colab": {},
    "colab_type": "code",
    "id": "4VU5fEAjiIjG"
   },
   "outputs": [],
   "source": [
    "df.pickup_datetime = pd.to_datetime(df.pickup_datetime, format='%Y-%m-%d %H:%M:%S')\n",
    "df['month'] = df.pickup_datetime.apply(lambda x: x.month)\n",
    "df['week'] = df.pickup_datetime.apply(lambda x: x.week)\n",
    "df['day'] = df.pickup_datetime.apply(lambda x: x.day)\n",
    "df['hour'] = df.pickup_datetime.apply(lambda x: x.hour)"
   ]
  },
  {
   "cell_type": "code",
   "execution_count": null,
   "metadata": {
    "ExecuteTime": {
     "end_time": "2018-11-19T05:34:04.567831Z",
     "start_time": "2018-11-19T05:34:04.551011Z"
    },
    "colab": {},
    "colab_type": "code",
    "id": "gpCZL-uJiIjI",
    "outputId": "debada58-17db-4f8a-e7b4-bfba3579bf55"
   },
   "outputs": [],
   "source": [
    "df.head()"
   ]
  },
  {
   "cell_type": "code",
   "execution_count": null,
   "metadata": {
    "ExecuteTime": {
     "end_time": "2018-11-19T05:34:04.668366Z",
     "start_time": "2018-11-19T05:34:04.570016Z"
    },
    "colab": {},
    "colab_type": "code",
    "id": "AuXwpgxoiIjM",
    "outputId": "c4468004-45bf-4ca1-f29e-f45f2a5f200b"
   },
   "outputs": [],
   "source": [
    "df.info()"
   ]
  },
  {
   "cell_type": "markdown",
   "metadata": {
    "colab_type": "text",
    "id": "LKJTPcdBiIjP"
   },
   "source": [
    "As you can see we can obtain the month, week, day, and hour from the pickup_datetime column (which also gets converted to become a datetime column instead of object). We will use these columns in the later parts of our analysis."
   ]
  },
  {
   "cell_type": "markdown",
   "metadata": {
    "colab_type": "text",
    "id": "NBXk0ENHiIjR"
   },
   "source": [
    "### Map Visualizations with Folium"
   ]
  },
  {
   "cell_type": "markdown",
   "metadata": {
    "colab_type": "text",
    "id": "wPAgyDlciIjR"
   },
   "source": [
    "Generate the map for NY\n"
   ]
  },
  {
   "cell_type": "code",
   "execution_count": null,
   "metadata": {
    "ExecuteTime": {
     "end_time": "2018-11-19T05:34:04.673013Z",
     "start_time": "2018-11-19T05:34:04.670120Z"
    },
    "colab": {},
    "colab_type": "code",
    "id": "0H-uRYF1iIjS"
   },
   "outputs": [],
   "source": [
    "def generateBaseMap(default_location=[40.693943, -73.985880]):\n",
    "    base_map = folium.Map(location=default_location, control_scale=True, zoom_start=11)\n",
    "    return base_map"
   ]
  },
  {
   "cell_type": "code",
   "execution_count": null,
   "metadata": {
    "ExecuteTime": {
     "end_time": "2018-11-19T05:34:04.687135Z",
     "start_time": "2018-11-19T05:34:04.674745Z"
    },
    "colab": {},
    "colab_type": "code",
    "id": "ZhOzNzEEiIjV",
    "outputId": "05e4aff1-a312-4594-a895-f20a9ed18106"
   },
   "outputs": [],
   "source": [
    "base_map = generateBaseMap()\n",
    "base_map"
   ]
  },
  {
   "cell_type": "markdown",
   "metadata": {
    "colab_type": "text",
    "id": "g9e5lVc0iIjb"
   },
   "source": [
    "**Analysis Question:**<br>\n",
    "The city is planning to install taxi stops, locations throughout the city where people can get picked up/dropped off by cabs and wait for cabs to pick them up. This initiative is aiming to:\n",
    "1. Reduce the amount of taxis that stops at the bicycle lanes \n",
    "2. Making it easier and safer for the citizens of the city to get a cab especially during night time \n",
    "3. Allowing taxi cab drivers to know where to go when they want to find riders\n",
    "4. Allowing potential riders to have a point where they can go to when they are looking for taxis.\n",
    "\n",
    "You are tasked with suggesting the best locations for these taxi stops, and also generating insights about the pattern of rides amount throughout the day across the city."
   ]
  },
  {
   "cell_type": "code",
   "execution_count": null,
   "metadata": {
    "ExecuteTime": {
     "end_time": "2018-11-19T06:05:45.764352Z",
     "start_time": "2018-11-19T06:05:45.761769Z"
    },
    "colab": {},
    "colab_type": "code",
    "id": "--pBpUiviIjc"
   },
   "outputs": [],
   "source": [
    "from folium.plugins import HeatMap\n"
   ]
  },
  {
   "cell_type": "markdown",
   "metadata": {
    "colab_type": "text",
    "id": "g-4G4lb9iIje"
   },
   "source": [
    "We will be using 2 months worth of data for this analysis, May - June 2016"
   ]
  },
  {
   "cell_type": "code",
   "execution_count": null,
   "metadata": {
    "ExecuteTime": {
     "end_time": "2018-11-19T05:34:05.037298Z",
     "start_time": "2018-11-19T05:34:04.818915Z"
    },
    "colab": {},
    "colab_type": "code",
    "id": "2p4cDhYeiIjf"
   },
   "outputs": [],
   "source": [
    "df_copy = df[df['month'] > 4]\n",
    "df_copy['count'] = 1"
   ]
  },
  {
   "cell_type": "markdown",
   "metadata": {},
   "source": [
    "Calculate the number of times a path was travelled using group by"
   ]
  },
  {
   "cell_type": "code",
   "execution_count": null,
   "metadata": {},
   "outputs": [],
   "source": [
    "df_agg = df_copy[['pickup_latitude', 'pickup_longitude', 'count']].groupby(['pickup_latitude', 'pickup_longitude']).sum()\n",
    "df_agg.head()"
   ]
  },
  {
   "cell_type": "markdown",
   "metadata": {},
   "source": [
    "Reset index and convert the values to list"
   ]
  },
  {
   "cell_type": "code",
   "execution_count": null,
   "metadata": {},
   "outputs": [],
   "source": [
    "df_agg = df_agg.reset_index()\n",
    "df_agg=df_agg.values.tolist()"
   ]
  },
  {
   "cell_type": "markdown",
   "metadata": {
    "colab_type": "text",
    "id": "6-QBKpvJiIjn"
   },
   "source": [
    "Generate map and add heatmap"
   ]
  },
  {
   "cell_type": "code",
   "execution_count": null,
   "metadata": {
    "ExecuteTime": {
     "end_time": "2018-11-19T10:09:37.970112Z",
     "start_time": "2018-11-19T10:09:34.940649Z"
    },
    "colab": {},
    "colab_type": "code",
    "id": "DxWjo2YUiIjo",
    "outputId": "e288e259-9333-4066-daf8-cf4fe1d25387"
   },
   "outputs": [],
   "source": [
    "base_map = generateBaseMap()\n",
    "HeatMap(data=df_agg, radius=8, max_zoom=13).add_to(base_map)\n",
    "base_map.save('hm1.html')"
   ]
  },
  {
   "cell_type": "markdown",
   "metadata": {},
   "source": [
    "Add click for marker to mark potential locations"
   ]
  },
  {
   "cell_type": "code",
   "execution_count": null,
   "metadata": {
    "ExecuteTime": {
     "end_time": "2018-11-19T10:10:00.432334Z",
     "start_time": "2018-11-19T10:09:50.994847Z"
    },
    "colab": {},
    "colab_type": "code",
    "id": "_v-HepmTiIjv",
    "outputId": "08b39770-4bc0-419a-8914-24c6a5292e07"
   },
   "outputs": [],
   "source": [
    "base_map.add_child(folium.ClickForMarker(popup='Potential Location'))\n",
    "base_map.save('hm2.html')"
   ]
  }
 ],
 "metadata": {
  "colab": {
   "collapsed_sections": [],
   "name": "Copy of folium_demonstration.ipynb",
   "provenance": []
  },
  "kernelspec": {
   "display_name": "Python 3",
   "language": "python",
   "name": "python3"
  },
  "language_info": {
   "codemirror_mode": {
    "name": "ipython",
    "version": 3
   },
   "file_extension": ".py",
   "mimetype": "text/x-python",
   "name": "python",
   "nbconvert_exporter": "python",
   "pygments_lexer": "ipython3",
   "version": "3.6.5"
  }
 },
 "nbformat": 4,
 "nbformat_minor": 1
}
